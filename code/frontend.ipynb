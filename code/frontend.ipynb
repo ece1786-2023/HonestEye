{
  "nbformat": 4,
  "nbformat_minor": 0,
  "metadata": {
    "colab": {
      "provenance": []
    },
    "kernelspec": {
      "name": "python3",
      "display_name": "Python 3"
    },
    "language_info": {
      "name": "python"
    }
  },
  "cells": [
    {
      "cell_type": "code",
      "execution_count": null,
      "metadata": {
        "id": "HWCV0B9E-P9U"
      },
      "outputs": [],
      "source": [
        "!pip install gradio"
      ]
    },
    {
      "cell_type": "code",
      "source": [
        "import gradio as gr\n",
        "import torch"
      ],
      "metadata": {
        "id": "YrBZniAY-0Jl"
      },
      "execution_count": 2,
      "outputs": []
    },
    {
      "cell_type": "code",
      "source": [
        "### Update the location of the models below ###\n",
        "path = '/content/drive/MyDrive/School Work/MEng/ECE1786/Asn2/baseline.pt'\n",
        "checkpoint1 = torch.load(path)\n",
        "model = #\n",
        "model.load_state_dict(checkpoint1)"
      ],
      "metadata": {
        "id": "POlW72Dh-5mU"
      },
      "execution_count": null,
      "outputs": []
    },
    {
      "cell_type": "code",
      "source": [
        "def getResult(input):\n",
        "  #############################################\n",
        "  #pred = model.predict(input)\n",
        "  pred = '0'\n",
        "  #############################################\n",
        "\n",
        "  result = ''\n",
        "  if(pred == '0'):\n",
        "    result = \"The first sentence is a lie!\"\n",
        "  elif(pred == '1'):\n",
        "    result = \"The second sentence is a lie!\"\n",
        "  elif(pred == '2'):\n",
        "    result = \"The third sentence is a lie!\"\n",
        "\n",
        "  return result\n",
        "\n",
        "with gr.Blocks() as demo:\n",
        "  with gr.Column(scale=1, min_width=600):\n",
        "    text0 = gr.Textbox(label=\"Sentence 1\")\n",
        "    text1 = gr.Textbox(label=\"Sentence 2\")\n",
        "    text2 = gr.Textbox(label=\"Sentence 3\")\n",
        "    predict = gr.Button(\"Submit\")\n",
        "    text3 = gr.Textbox(label=\"Prediction\")\n",
        "\n",
        "  predict.click(getResult, inputs=[text0, text1, text2], outputs=text3)\n",
        "\n",
        "demo.launch(debug=True)"
      ],
      "metadata": {
        "colab": {
          "base_uri": "https://localhost:8080/",
          "height": 247
        },
        "id": "0eWkkT8r_DtJ",
        "outputId": "42c44ad8-73f5-4e94-8bc6-c60c7ff4391a"
      },
      "execution_count": 8,
      "outputs": [
        {
          "output_type": "error",
          "ename": "NameError",
          "evalue": "ignored",
          "traceback": [
            "\u001b[0;31m---------------------------------------------------------------------------\u001b[0m",
            "\u001b[0;31mNameError\u001b[0m                                 Traceback (most recent call last)",
            "\u001b[0;32m<ipython-input-8-a6ebea4c41aa>\u001b[0m in \u001b[0;36m<cell line: 17>\u001b[0;34m()\u001b[0m\n\u001b[1;32m     23\u001b[0m     \u001b[0mtext3\u001b[0m \u001b[0;34m=\u001b[0m \u001b[0mgr\u001b[0m\u001b[0;34m.\u001b[0m\u001b[0mTextbox\u001b[0m\u001b[0;34m(\u001b[0m\u001b[0mlabel\u001b[0m\u001b[0;34m=\u001b[0m\u001b[0;34m\"Prediction\"\u001b[0m\u001b[0;34m)\u001b[0m\u001b[0;34m\u001b[0m\u001b[0;34m\u001b[0m\u001b[0m\n\u001b[1;32m     24\u001b[0m \u001b[0;34m\u001b[0m\u001b[0m\n\u001b[0;32m---> 25\u001b[0;31m   \u001b[0mpredict\u001b[0m\u001b[0;34m.\u001b[0m\u001b[0mclick\u001b[0m\u001b[0;34m(\u001b[0m\u001b[0mgetResult\u001b[0m\u001b[0;34m,\u001b[0m \u001b[0minputs\u001b[0m\u001b[0;34m=\u001b[0m\u001b[0;34m[\u001b[0m\u001b[0mtext0\u001b[0m\u001b[0;34m,\u001b[0m \u001b[0mtext1\u001b[0m\u001b[0;34m,\u001b[0m \u001b[0mtext2\u001b[0m\u001b[0;34m]\u001b[0m\u001b[0;34m,\u001b[0m \u001b[0moutputs\u001b[0m\u001b[0;34m=\u001b[0m\u001b[0mresult\u001b[0m\u001b[0;34m)\u001b[0m\u001b[0;34m\u001b[0m\u001b[0;34m\u001b[0m\u001b[0m\n\u001b[0m\u001b[1;32m     26\u001b[0m \u001b[0;34m\u001b[0m\u001b[0m\n\u001b[1;32m     27\u001b[0m \u001b[0mdemo\u001b[0m\u001b[0;34m.\u001b[0m\u001b[0mlaunch\u001b[0m\u001b[0;34m(\u001b[0m\u001b[0mdebug\u001b[0m\u001b[0;34m=\u001b[0m\u001b[0;32mTrue\u001b[0m\u001b[0;34m)\u001b[0m\u001b[0;34m\u001b[0m\u001b[0;34m\u001b[0m\u001b[0m\n",
            "\u001b[0;31mNameError\u001b[0m: name 'result' is not defined"
          ]
        }
      ]
    }
  ]
}